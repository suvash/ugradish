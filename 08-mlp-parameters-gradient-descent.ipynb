{
 "cells": [
  {
   "cell_type": "code",
   "execution_count": 1,
   "id": "8f7b2816-212d-447b-8fda-4be52f5f7ff4",
   "metadata": {},
   "outputs": [],
   "source": [
    "import math\n",
    "import random\n",
    "import numpy as np\n",
    "import matplotlib.pyplot as plt\n",
    "%matplotlib inline"
   ]
  },
  {
   "cell_type": "code",
   "execution_count": 2,
   "id": "af5beeff-684a-4996-b183-9d9e458796bb",
   "metadata": {},
   "outputs": [],
   "source": [
    "class Value:\n",
    "    \n",
    "    def __init__(self, data, _children=(), _op=(), label=None):\n",
    "        self.data = data\n",
    "        self.grad = 0\n",
    "        self._backward = lambda: None\n",
    "        self._prev = set(_children)\n",
    "        self._op = _op\n",
    "        self.label = label\n",
    "    \n",
    "    def __repr__(self):\n",
    "        return f\"Value(data={self.data}, label={self.label})\"\n",
    "    \n",
    "    def __add__(self, other):\n",
    "        other = other if isinstance(other, Value) else Value(other)\n",
    "        out = Value(self.data + other.data, (self, other), '+')\n",
    "        \n",
    "        def _backward():\n",
    "            self.grad += 1.0 * out.grad\n",
    "            other.grad += 1.0 * out.grad\n",
    "            \n",
    "        out._backward = _backward\n",
    "        return out\n",
    "    \n",
    "    def __mul__(self, other):\n",
    "        other = other if isinstance(other, Value) else Value(other)\n",
    "        out = Value(self.data * other.data, (self, other), '*')\n",
    "        \n",
    "        def _backward():\n",
    "            self.grad += other.data * out.grad\n",
    "            other.grad += self.data * out.grad\n",
    "        \n",
    "        out._backward = _backward\n",
    "        return out\n",
    "    \n",
    "    def __pow__(self, other):\n",
    "        assert isinstance(other, (int, float)), \"only supports int/float for now\"\n",
    "        out = Value(self.data**other, (self,), f'**{other}')\n",
    "        \n",
    "        def _backward():\n",
    "            self.grad += other * (self.data ** (other - 1)) * out.grad\n",
    "        \n",
    "        out._backward = _backward\n",
    "        return out\n",
    "    \n",
    "    def __radd__(self, other): # other + self\n",
    "        return self + other\n",
    "\n",
    "    def __rmul__(self, other): # other * self\n",
    "        return self * other\n",
    "    \n",
    "    def __truediv__(self, other): # self / other\n",
    "        return self * other**-1\n",
    "    \n",
    "    def __neg__(self): # -self\n",
    "        return self * -1\n",
    "    \n",
    "    def __sub__(self, other): # self - other\n",
    "        return self + (-other)\n",
    "    \n",
    "    def tanh(self):\n",
    "        x = self.data\n",
    "        t = (math.exp(2*x) - 1)/(math.exp(2*x) + 1)\n",
    "        out = Value(t, (self,), 'tanh')\n",
    "        \n",
    "        def _backward():\n",
    "            self.grad += (1 - t**2) * out.grad\n",
    "        \n",
    "        out._backward = _backward\n",
    "        return out\n",
    "    \n",
    "    def exp(self):\n",
    "        x = self.data\n",
    "        out = Value(math.exp(x), (self,), 'exp')\n",
    "        \n",
    "        def _backward():\n",
    "            self.grad += out.data * out.grad\n",
    "        \n",
    "        out._backward = _backward\n",
    "        return out \n",
    "    \n",
    "    def backward(self):\n",
    "        def topo_sort(node):\n",
    "            topo = []\n",
    "            visited = set()\n",
    "            def build_topo(v):\n",
    "                if v not in visited:\n",
    "                    visited.add(v)\n",
    "                    for child in v._prev:\n",
    "                        build_topo(child)\n",
    "                    topo.append(v)\n",
    "            build_topo(node)\n",
    "            return topo\n",
    "        \n",
    "        self.grad = 1.0\n",
    "        for node in reversed(topo_sort(self)):\n",
    "            node._backward()"
   ]
  },
  {
   "cell_type": "code",
   "execution_count": 3,
   "id": "f105b52a-4e1d-4af2-b64a-5d68002f9e74",
   "metadata": {},
   "outputs": [],
   "source": [
    "class Neuron:\n",
    "    \n",
    "    def __init__(self, nin):\n",
    "        self.w = [Value(random.uniform(-1,1)) for _ in range(nin)]\n",
    "        self.b = Value(random.uniform(-1,1))\n",
    "        \n",
    "    def __call__(self, x):\n",
    "        # w * x + b\n",
    "        act = sum((wi*xi for wi,xi in zip(self.w, x, strict=True)), self.b)\n",
    "        out = act.tanh()\n",
    "        return out\n",
    "    \n",
    "    def parameters(self):\n",
    "        return self.w + [self.b] # list\n",
    "\n",
    "class Layer:\n",
    "    \n",
    "    def __init__(self, nin, nout):\n",
    "        self.neurons = [Neuron(nin) for _ in range(nout)]\n",
    "        \n",
    "    def __call__(self, x):\n",
    "        outs = [n(x) for n in self.neurons]\n",
    "        return outs[0] if len(outs) == 1 else outs\n",
    "\n",
    "    def parameters(self):\n",
    "        return [p for neuron in self.neurons for p in neuron.parameters()]\n",
    "\n",
    "class MLP:\n",
    "    \n",
    "    def __init__(self, nin, nouts):\n",
    "        sz = [nin] + nouts\n",
    "        self.layers = [Layer(sz[i], sz[i+1]) for i in range(len(nouts))]\n",
    "        \n",
    "    def __call__(self, x):\n",
    "        for layer in self.layers:\n",
    "            x = layer(x)\n",
    "        return x\n",
    "\n",
    "    def parameters(self):\n",
    "        return [p for layer in self.layers for p in layer.parameters()]"
   ]
  },
  {
   "cell_type": "code",
   "execution_count": 4,
   "id": "c3e40211-e074-43ff-ba8e-f0b9c7da056b",
   "metadata": {},
   "outputs": [
    {
     "data": {
      "text/plain": [
       "Value(data=0.650198359037295, label=None)"
      ]
     },
     "execution_count": 4,
     "metadata": {},
     "output_type": "execute_result"
    }
   ],
   "source": [
    "x = [2.0, 3.0, 4.0]\n",
    "n = MLP(3, [4,4,1])\n",
    "n(x)"
   ]
  },
  {
   "cell_type": "code",
   "execution_count": 5,
   "id": "e01bfc97-0035-49e0-93cf-cfebddd5ac9e",
   "metadata": {},
   "outputs": [],
   "source": [
    "# 3 dim dataset\n",
    "xs = [\n",
    "    [2.0, 3.0, -1.0],\n",
    "    [3.0, -1.0, 0.5],\n",
    "    [0.5, 1.0, 1.0],\n",
    "    [1.0, 1.0, -1.0],\n",
    "]\n",
    "ys = [1.0, -1.0, -1.0, 1.0] # targets"
   ]
  },
  {
   "cell_type": "code",
   "execution_count": 6,
   "id": "777dc923-963d-44c7-bb79-383a3b53f477",
   "metadata": {},
   "outputs": [
    {
     "data": {
      "text/plain": [
       "[Value(data=-0.4670596368219565, label=None),\n",
       " Value(data=0.575489666566415, label=None),\n",
       " Value(data=0.5702213095549676, label=None),\n",
       " Value(data=-0.5380243264568745, label=None)]"
      ]
     },
     "execution_count": 6,
     "metadata": {},
     "output_type": "execute_result"
    }
   ],
   "source": [
    "# predictions is just the forward\n",
    "ypreds = [n(x) for x in xs]\n",
    "ypreds"
   ]
  },
  {
   "cell_type": "code",
   "execution_count": 7,
   "id": "274c37b7-edcc-48a3-b39e-a946817ddfae",
   "metadata": {},
   "outputs": [],
   "source": [
    "def mse(targets, preds):\n",
    "    return sum((p - t)**2 for t,p in zip(targets, preds))"
   ]
  },
  {
   "cell_type": "code",
   "execution_count": 8,
   "id": "29cfc5ec-5b0c-4bd3-b128-13a08f778d94",
   "metadata": {},
   "outputs": [
    {
     "data": {
      "text/plain": [
       "Value(data=9.465545457203364, label=None)"
      ]
     },
     "execution_count": 8,
     "metadata": {},
     "output_type": "execute_result"
    }
   ],
   "source": [
    "loss = mse(ys, ypreds)\n",
    "loss"
   ]
  },
  {
   "cell_type": "code",
   "execution_count": 9,
   "id": "a1c0bf6f-59e0-4d1c-903f-5cb2d48823b6",
   "metadata": {},
   "outputs": [],
   "source": [
    "loss.backward()"
   ]
  },
  {
   "cell_type": "code",
   "execution_count": 10,
   "id": "69308d25-4148-4296-a52a-e49d28966542",
   "metadata": {},
   "outputs": [
    {
     "data": {
      "text/plain": [
       "Value(data=-0.2908801097967708, label=None)"
      ]
     },
     "execution_count": 10,
     "metadata": {},
     "output_type": "execute_result"
    }
   ],
   "source": [
    "n.layers[0].neurons[0].w[0]"
   ]
  },
  {
   "cell_type": "code",
   "execution_count": 11,
   "id": "5a1d54ab-b42c-457a-80d7-bfd29ac185ef",
   "metadata": {},
   "outputs": [
    {
     "data": {
      "text/plain": [
       "0.7892923767084601"
      ]
     },
     "execution_count": 11,
     "metadata": {},
     "output_type": "execute_result"
    }
   ],
   "source": [
    "n.layers[0].neurons[0].w[0].grad"
   ]
  },
  {
   "cell_type": "code",
   "execution_count": 12,
   "id": "db6c5587-0c6f-428d-a383-0b1698c44462",
   "metadata": {},
   "outputs": [],
   "source": [
    "# time to nudge the parameters"
   ]
  },
  {
   "cell_type": "code",
   "execution_count": 28,
   "id": "09878269-775a-48d0-a663-21aacdbb5d6e",
   "metadata": {},
   "outputs": [],
   "source": [
    "step_size = 0.01\n",
    "\n",
    "# gradient points in the direction of increasing the loss, hence the negative step size\n",
    "\n",
    "for p in n.parameters():\n",
    "    p.data += -step_size * p.grad"
   ]
  },
  {
   "cell_type": "code",
   "execution_count": 29,
   "id": "6e7eda7a-bf16-456a-b295-6667a3129ebd",
   "metadata": {},
   "outputs": [
    {
     "data": {
      "text/plain": [
       "[Value(data=0.33323773361101283, label=None),\n",
       " Value(data=-0.023346321527930026, label=None),\n",
       " Value(data=0.45658454410007543, label=None),\n",
       " Value(data=0.2672791136342945, label=None)]"
      ]
     },
     "execution_count": 29,
     "metadata": {},
     "output_type": "execute_result"
    }
   ],
   "source": [
    "ypreds = [n(x) for x in xs]\n",
    "ypreds"
   ]
  },
  {
   "cell_type": "code",
   "execution_count": 30,
   "id": "96099c2b-e250-4cc3-b111-798d5f939f42",
   "metadata": {},
   "outputs": [
    {
     "data": {
      "text/plain": [
       "Value(data=4.056942758980974, label=None)"
      ]
     },
     "execution_count": 30,
     "metadata": {},
     "output_type": "execute_result"
    }
   ],
   "source": [
    "loss = mse(ys, ypreds)\n",
    "loss"
   ]
  },
  {
   "cell_type": "code",
   "execution_count": 31,
   "id": "4cc5eb69-b904-4fa6-9179-1a9da2611f76",
   "metadata": {},
   "outputs": [],
   "source": [
    "# we can see that the loss is decreasing\n",
    "# gradient descent is basically this in an iteration\n",
    "\n",
    "# forward pass -> backward pass (calc gradients) -> update (use gradients to nudge the parameters) ---> ..."
   ]
  },
  {
   "cell_type": "code",
   "execution_count": null,
   "id": "497ac248-1762-46a6-8703-4e91ebfb14b6",
   "metadata": {},
   "outputs": [],
   "source": [
    "# continue running the gradient descent method until you have a very low loss"
   ]
  },
  {
   "cell_type": "code",
   "execution_count": 53,
   "id": "4efd608c-791c-44ac-a5c1-26a72eb95257",
   "metadata": {},
   "outputs": [
    {
     "data": {
      "text/plain": [
       "Value(data=8.595887964576753e-05, label=None)"
      ]
     },
     "execution_count": 53,
     "metadata": {},
     "output_type": "execute_result"
    }
   ],
   "source": [
    "# update\n",
    "step_size = 0.01\n",
    "for p in n.parameters():\n",
    "    p.data += -step_size * p.grad\n",
    "# forward\n",
    "ypreds = [n(x) for x in xs]\n",
    "# backward\n",
    "loss = mse(ys, ypreds)\n",
    "loss.backward()\n",
    "\n",
    "loss"
   ]
  },
  {
   "cell_type": "code",
   "execution_count": 54,
   "id": "7bd8e048-b380-490f-bb51-1cdfc6d32081",
   "metadata": {},
   "outputs": [
    {
     "data": {
      "text/plain": [
       "[Value(data=0.9953819892260934, label=None),\n",
       " Value(data=-0.995496138711576, label=None),\n",
       " Value(data=-0.9952289519212548, label=None),\n",
       " Value(data=0.9953540135748381, label=None)]"
      ]
     },
     "execution_count": 54,
     "metadata": {},
     "output_type": "execute_result"
    }
   ],
   "source": [
    "ypreds"
   ]
  },
  {
   "cell_type": "code",
   "execution_count": null,
   "id": "2395cfac-7baf-429d-9bc2-a8173b88281c",
   "metadata": {},
   "outputs": [],
   "source": []
  }
 ],
 "metadata": {
  "kernelspec": {
   "display_name": "Python 3 (ipykernel)",
   "language": "python",
   "name": "python3"
  },
  "language_info": {
   "codemirror_mode": {
    "name": "ipython",
    "version": 3
   },
   "file_extension": ".py",
   "mimetype": "text/x-python",
   "name": "python",
   "nbconvert_exporter": "python",
   "pygments_lexer": "ipython3",
   "version": "3.10.4"
  }
 },
 "nbformat": 4,
 "nbformat_minor": 5
}
