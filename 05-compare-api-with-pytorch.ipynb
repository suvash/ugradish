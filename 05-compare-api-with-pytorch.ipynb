{
 "cells": [
  {
   "cell_type": "code",
   "execution_count": 1,
   "id": "8f7b2816-212d-447b-8fda-4be52f5f7ff4",
   "metadata": {},
   "outputs": [],
   "source": [
    "import math\n",
    "import numpy as np\n",
    "import matplotlib.pyplot as plt\n",
    "%matplotlib inline"
   ]
  },
  {
   "cell_type": "code",
   "execution_count": 2,
   "id": "9f8c64b5-a71c-4676-be94-b081d36f1987",
   "metadata": {},
   "outputs": [],
   "source": [
    "# let's keep around this stuff and implement a pytorch version"
   ]
  },
  {
   "cell_type": "code",
   "execution_count": 3,
   "id": "af5beeff-684a-4996-b183-9d9e458796bb",
   "metadata": {},
   "outputs": [],
   "source": [
    "class Value:\n",
    "    \n",
    "    def __init__(self, data, _children=(), _op=(), label=None):\n",
    "        self.data = data\n",
    "        self.grad = 0\n",
    "        self._backward = lambda: None\n",
    "        self._prev = set(_children)\n",
    "        self._op = _op\n",
    "        self.label = label\n",
    "    \n",
    "    def __repr__(self):\n",
    "        return f\"Value(data={self.data}, label={self.label})\"\n",
    "    \n",
    "    def __add__(self, other):\n",
    "        other = other if isinstance(other, Value) else Value(other)\n",
    "        out = Value(self.data + other.data, (self, other), '+')\n",
    "        \n",
    "        def _backward():\n",
    "            self.grad += 1.0 * out.grad\n",
    "            other.grad += 1.0 * out.grad\n",
    "            \n",
    "        out._backward = _backward\n",
    "        return out\n",
    "    \n",
    "    def __mul__(self, other):\n",
    "        other = other if isinstance(other, Value) else Value(other)\n",
    "        out = Value(self.data * other.data, (self, other), '*')\n",
    "        \n",
    "        def _backward():\n",
    "            self.grad += other.data * out.grad\n",
    "            other.grad += self.data * out.grad\n",
    "        \n",
    "        out._backward = _backward\n",
    "        return out\n",
    "    \n",
    "    def __pow__(self, other):\n",
    "        assert isinstance(other, (int, float)), \"only supports int/float for now\"\n",
    "        out = Value(self.data**other, (self,), f'**{other}')\n",
    "        \n",
    "        def _backward():\n",
    "            self.grad += other * (self.data ** (other - 1)) * out.grad\n",
    "        \n",
    "        out._backward = _backward\n",
    "        return out\n",
    "    \n",
    "    def __rmul__(self, other): # other * self\n",
    "        return self * other\n",
    "    \n",
    "    def __truediv__(self, other): # self / other\n",
    "        return self * other**-1\n",
    "    \n",
    "    def __neg__(self): # -self\n",
    "        return self * -1\n",
    "    \n",
    "    def __sub__(self, other): # self - other\n",
    "        return self + (-other)\n",
    "    \n",
    "    def tanh(self):\n",
    "        x = self.data\n",
    "        t = (math.exp(2*x) - 1)/(math.exp(2*x) + 1)\n",
    "        out = Value(t, (self,), 'tanh')\n",
    "        \n",
    "        def _backward():\n",
    "            self.grad += (1 - t**2) * out.grad\n",
    "        \n",
    "        out._backward = _backward\n",
    "        return out\n",
    "    \n",
    "    def exp(self):\n",
    "        x = self.data\n",
    "        out = Value(math.exp(x), (self,), 'exp')\n",
    "        \n",
    "        def _backward():\n",
    "            self.grad += out.data * out.grad\n",
    "        \n",
    "        out._backward = _backward\n",
    "        return out \n",
    "    \n",
    "    def backward(self):\n",
    "        def topo_sort(node):\n",
    "            topo = []\n",
    "            visited = set()\n",
    "            def build_topo(v):\n",
    "                if v not in visited:\n",
    "                    visited.add(v)\n",
    "                    for child in v._prev:\n",
    "                        build_topo(child)\n",
    "                    topo.append(v)\n",
    "            build_topo(node)\n",
    "            return topo\n",
    "        \n",
    "        self.grad = 1.0\n",
    "        for node in reversed(topo_sort(self)):\n",
    "            node._backward()"
   ]
  },
  {
   "cell_type": "code",
   "execution_count": 4,
   "id": "2c867a68-9251-4ced-8ff2-a46d3d31c6d3",
   "metadata": {},
   "outputs": [],
   "source": [
    "def trace(root):\n",
    "    nodes, edges = set(), set()\n",
    "    def build(v):\n",
    "        if v not in nodes:\n",
    "            nodes.add(v)\n",
    "            for child in v._prev:\n",
    "                edges.add((child, v))\n",
    "                build(child)\n",
    "    build(root)\n",
    "    return nodes, edges"
   ]
  },
  {
   "cell_type": "code",
   "execution_count": 5,
   "id": "1edd1cee-a12d-4f4b-bc3f-539b9304d9c3",
   "metadata": {},
   "outputs": [],
   "source": [
    "from graphviz import Digraph\n",
    "\n",
    "def draw_dot(root):\n",
    "    dot = Digraph(format='svg', graph_attr={'rankdir': 'LR'})\n",
    "    \n",
    "    nodes, edges = trace(root)\n",
    "    for n in nodes:\n",
    "        uid = str(id(n))\n",
    "        dot.node(name = uid, label = \"{ %s | data %.4f | grad %.4f }\" % (n.label, n.data, n.grad), shape='record')\n",
    "        if n._op:\n",
    "            dot.node(name = uid + n._op, label = n._op)\n",
    "            dot.edge(uid + n._op, uid)\n",
    "    \n",
    "    for n1, n2 in edges:\n",
    "        dot.edge(str(id(n1)), str(id(n2)) + n2._op)\n",
    "    \n",
    "    return dot"
   ]
  },
  {
   "cell_type": "code",
   "execution_count": 10,
   "id": "3e079d82-c0a3-451b-bc8e-f4b963c936fe",
   "metadata": {},
   "outputs": [
    {
     "name": "stdout",
     "output_type": "stream",
     "text": [
      "0.7071067811865477\n",
      "--\n",
      "x1 -1.5\n",
      "w1 1.0\n",
      "x2 0.5\n",
      "w2 0.0\n"
     ]
    }
   ],
   "source": [
    "# inputs\n",
    "x1 = Value(2.0, label='x1')\n",
    "x2 = Value(0.0, label='x2')\n",
    "# weights\n",
    "w1 = Value(-3.0, label='w1')\n",
    "w2 = Value(1.0, label='w2')\n",
    "# bias\n",
    "b = Value(6.8813735870195432, label='b')\n",
    "\n",
    "# x1*w1 + x2*w2 + b\n",
    "x1w1 = x1*w1; x1w1.label = 'x1*w1'\n",
    "x2w2 = x2*w2; x2w2.label = 'x2*w2'\n",
    "x1w1x2w2 = x1w1 + x2w2; x1w1x2w2.label = 'x1*w1 + x2*w2'\n",
    "n = x1w1x2w2 + b; n.label = 'n'\n",
    "e = (2*n).exp()\n",
    "o = (e - 1)/(e + 1)\n",
    "o.label = 'o'\n",
    "\n",
    "print(o.data)\n",
    "# backward\n",
    "o.backward()\n",
    "\n",
    "#\n",
    "print('--')\n",
    "\n",
    "print('x1', x1.grad)\n",
    "print('w1', w1.grad)\n",
    "print('x2', x2.grad)\n",
    "print('w2', w2.grad)"
   ]
  },
  {
   "cell_type": "code",
   "execution_count": 11,
   "id": "a0c33086-c122-43c7-9956-4944b8d7a2e3",
   "metadata": {},
   "outputs": [],
   "source": [
    "# now in pytorch"
   ]
  },
  {
   "cell_type": "code",
   "execution_count": 12,
   "id": "36034608-a1ae-4a9c-b34b-4ae3e609b645",
   "metadata": {},
   "outputs": [],
   "source": [
    "import torch"
   ]
  },
  {
   "cell_type": "code",
   "execution_count": 13,
   "id": "d973fc63-96f7-4da5-9bb5-5cd4022142b1",
   "metadata": {},
   "outputs": [
    {
     "name": "stdout",
     "output_type": "stream",
     "text": [
      "0.7071066904050358\n",
      "--\n",
      "x1 -1.5000003851533106\n",
      "w1 1.0000002567688737\n",
      "x2 0.5000001283844369\n",
      "w2 0.0\n"
     ]
    }
   ],
   "source": [
    "# inputs\n",
    "x1 = torch.tensor([2.0]).double()                    ; x1.requires_grad = True\n",
    "x2 = torch.tensor([0.0]).double()                    ; x2.requires_grad = True\n",
    "# weights\n",
    "w1 = torch.tensor([-3.0]).double()                   ; w1.requires_grad = True\n",
    "w2 = torch.tensor([1.0]).double()                    ; w2.requires_grad = True\n",
    "# bias\n",
    "b = torch.tensor([6.8813735870195432]).double()        ; b.requires_grad = True\n",
    "\n",
    "# x1*w1 + x2*w2 + b\n",
    "n = x1*w1 + x2*w2 + b\n",
    "o = torch.tanh(n)\n",
    "\n",
    "print(o.data.item())\n",
    "o.backward()\n",
    "\n",
    "print('--')\n",
    "print('x1', x1.grad.item())\n",
    "print('w1', w1.grad.item())\n",
    "print('x2', x2.grad.item())\n",
    "print('w2', w2.grad.item())"
   ]
  },
  {
   "cell_type": "code",
   "execution_count": null,
   "id": "f018720a-b3c8-4fea-8fe7-41fc77e02a72",
   "metadata": {},
   "outputs": [],
   "source": []
  }
 ],
 "metadata": {
  "kernelspec": {
   "display_name": "Python 3 (ipykernel)",
   "language": "python",
   "name": "python3"
  },
  "language_info": {
   "codemirror_mode": {
    "name": "ipython",
    "version": 3
   },
   "file_extension": ".py",
   "mimetype": "text/x-python",
   "name": "python",
   "nbconvert_exporter": "python",
   "pygments_lexer": "ipython3",
   "version": "3.10.4"
  }
 },
 "nbformat": 4,
 "nbformat_minor": 5
}
